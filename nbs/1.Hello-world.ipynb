{
 "cells": [
  {
   "cell_type": "code",
   "execution_count": 2,
   "id": "fbed6e73",
   "metadata": {},
   "outputs": [],
   "source": [
    "from decouple import config"
   ]
  },
  {
   "cell_type": "code",
   "execution_count": 3,
   "id": "13e76bcc",
   "metadata": {},
   "outputs": [],
   "source": [
    "assert config('ALPHA_VANTAGE_API_KEY', default=None, cast=str) is not None\n"
   ]
  },
  {
   "cell_type": "code",
   "execution_count": 4,
   "id": "2b53e865",
   "metadata": {},
   "outputs": [],
   "source": [
    "assert config('POLOGYON_API_KEY', default=None, cast=str) is not None\n"
   ]
  },
  {
   "cell_type": "code",
   "execution_count": null,
   "id": "085173e9",
   "metadata": {},
   "outputs": [],
   "source": []
  }
 ],
 "metadata": {
  "kernelspec": {
   "display_name": "Stock-Trading-Bot",
   "language": "python",
   "name": "python3"
  },
  "language_info": {
   "codemirror_mode": {
    "name": "ipython",
    "version": 3
   },
   "file_extension": ".py",
   "mimetype": "text/x-python",
   "name": "python",
   "nbconvert_exporter": "python",
   "pygments_lexer": "ipython3",
   "version": "3.11.13"
  }
 },
 "nbformat": 4,
 "nbformat_minor": 5
}
